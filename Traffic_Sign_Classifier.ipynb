{
  "nbformat": 4,
  "nbformat_minor": 0,
  "metadata": {
    "anaconda-cloud": {},
    "kernelspec": {
      "display_name": "Python 3",
      "language": "python",
      "name": "python3"
    },
    "language_info": {
      "codemirror_mode": {
        "name": "ipython",
        "version": 3
      },
      "file_extension": ".py",
      "mimetype": "text/x-python",
      "name": "python",
      "nbconvert_exporter": "python",
      "pygments_lexer": "ipython3",
      "version": "3.5.2"
    },
    "colab": {
      "name": "Traffic_Sign_Classifier.ipynb",
      "provenance": [],
      "collapsed_sections": []
    },
    "accelerator": "GPU"
  },
  "cells": [
    {
      "cell_type": "markdown",
      "metadata": {
        "id": "XEowL0-bHLZY"
      },
      "source": [
        "# Self-Driving Car Engineer Nanodegree\n",
        "\n",
        "## Deep Learning\n",
        "\n",
        "## Project: Build a Traffic Sign Recognition Classifier\n",
        "\n",
        "In this notebook, a template is provided for you to implement your functionality in stages, which is required to successfully complete this project. If additional code is required that cannot be included in the notebook, be sure that the Python code is successfully imported and included in your submission if necessary. \n",
        "\n",
        "> **Note**: Once you have completed all of the code implementations, you need to finalize your work by exporting the iPython Notebook as an HTML document. Before exporting the notebook to html, all of the code cells need to have been run so that reviewers can see the final implementation and output. You can then export the notebook by using the menu above and navigating to  \\n\",\n",
        "    \"**File -> Download as -> HTML (.html)**. Include the finished document along with this notebook as your submission. \n",
        "\n",
        "In addition to implementing code, there is a writeup to complete. The writeup should be completed in a separate file, which can be either a markdown file or a pdf document. There is a [write up template](https://github.com/udacity/CarND-Traffic-Sign-Classifier-Project/blob/master/writeup_template.md) that can be used to guide the writing process. Completing the code template and writeup template will cover all of the [rubric points](https://review.udacity.com/#!/rubrics/481/view) for this project.\n",
        "\n",
        "The [rubric](https://review.udacity.com/#!/rubrics/481/view) contains \"Stand Out Suggestions\" for enhancing the project beyond the minimum requirements. The stand out suggestions are optional. If you decide to pursue the \"stand out suggestions\", you can include the code in this Ipython notebook and also discuss the results in the writeup file.\n",
        "\n",
        "\n",
        ">**Note:** Code and Markdown cells can be executed using the **Shift + Enter** keyboard shortcut. In addition, Markdown cells can be edited by typically double-clicking the cell to enter edit mode."
      ]
    },
    {
      "cell_type": "code",
      "metadata": {
        "id": "bkYQ30c2v5Rq",
        "colab": {
          "base_uri": "https://localhost:8080/"
        },
        "outputId": "83cfc961-1aad-465b-b827-810017c214df"
      },
      "source": [
        "import pandas as pd\n",
        "data = pd.read_csv('signnames.csv')\n",
        "print(data)"
      ],
      "execution_count": null,
      "outputs": [
        {
          "output_type": "stream",
          "text": [
            "    ClassId                                           SignName\n",
            "0         0                               Speed limit (20km/h)\n",
            "1         1                               Speed limit (30km/h)\n",
            "2         2                               Speed limit (50km/h)\n",
            "3         3                               Speed limit (60km/h)\n",
            "4         4                               Speed limit (70km/h)\n",
            "5         5                               Speed limit (80km/h)\n",
            "6         6                        End of speed limit (80km/h)\n",
            "7         7                              Speed limit (100km/h)\n",
            "8         8                              Speed limit (120km/h)\n",
            "9         9                                         No passing\n",
            "10       10       No passing for vehicles over 3.5 metric tons\n",
            "11       11              Right-of-way at the next intersection\n",
            "12       12                                      Priority road\n",
            "13       13                                              Yield\n",
            "14       14                                               Stop\n",
            "15       15                                        No vehicles\n",
            "16       16           Vehicles over 3.5 metric tons prohibited\n",
            "17       17                                           No entry\n",
            "18       18                                    General caution\n",
            "19       19                        Dangerous curve to the left\n",
            "20       20                       Dangerous curve to the right\n",
            "21       21                                       Double curve\n",
            "22       22                                         Bumpy road\n",
            "23       23                                      Slippery road\n",
            "24       24                          Road narrows on the right\n",
            "25       25                                          Road work\n",
            "26       26                                    Traffic signals\n",
            "27       27                                        Pedestrians\n",
            "28       28                                  Children crossing\n",
            "29       29                                  Bicycles crossing\n",
            "30       30                                 Beware of ice/snow\n",
            "31       31                              Wild animals crossing\n",
            "32       32                End of all speed and passing limits\n",
            "33       33                                   Turn right ahead\n",
            "34       34                                    Turn left ahead\n",
            "35       35                                         Ahead only\n",
            "36       36                               Go straight or right\n",
            "37       37                                Go straight or left\n",
            "38       38                                         Keep right\n",
            "39       39                                          Keep left\n",
            "40       40                               Roundabout mandatory\n",
            "41       41                                  End of no passing\n",
            "42       42  End of no passing by vehicles over 3.5 metric ...\n"
          ],
          "name": "stdout"
        }
      ]
    },
    {
      "cell_type": "code",
      "metadata": {
        "colab": {
          "base_uri": "https://localhost:8080/"
        },
        "id": "sztDB3qGHNQt",
        "outputId": "b6d8c0eb-1072-44b2-8cac-f17aa0ae6ad0"
      },
      "source": [
        "!wget https://s3-us-west-1.amazonaws.com/udacity-selfdrivingcar/traffic-signs-data.zip"
      ],
      "execution_count": null,
      "outputs": [
        {
          "output_type": "stream",
          "text": [
            "--2021-06-13 10:10:39--  https://s3-us-west-1.amazonaws.com/udacity-selfdrivingcar/traffic-signs-data.zip\n",
            "Resolving s3-us-west-1.amazonaws.com (s3-us-west-1.amazonaws.com)... 52.219.116.24\n",
            "Connecting to s3-us-west-1.amazonaws.com (s3-us-west-1.amazonaws.com)|52.219.116.24|:443... connected.\n",
            "HTTP request sent, awaiting response... 200 OK\n",
            "Length: 123524425 (118M) [application/zip]\n",
            "Saving to: ‘traffic-signs-data.zip’\n",
            "\n",
            "traffic-signs-data. 100%[===================>] 117.80M  35.8MB/s    in 3.3s    \n",
            "\n",
            "2021-06-13 10:10:43 (35.8 MB/s) - ‘traffic-signs-data.zip’ saved [123524425/123524425]\n",
            "\n"
          ],
          "name": "stdout"
        }
      ]
    },
    {
      "cell_type": "code",
      "metadata": {
        "id": "mxmPCJAJs6q8"
      },
      "source": [
        "from google.colab import files"
      ],
      "execution_count": null,
      "outputs": []
    },
    {
      "cell_type": "markdown",
      "metadata": {
        "id": "1s1mvHSMHLZe"
      },
      "source": [
        "---\n",
        "## Step 0: Load The Data"
      ]
    },
    {
      "cell_type": "code",
      "metadata": {
        "id": "P9Zlb-NkHgLE",
        "colab": {
          "base_uri": "https://localhost:8080/"
        },
        "outputId": "516d522f-603c-4638-aa8c-e891b8070ba5"
      },
      "source": [
        "!unzip /content/traffic-signs-data.zip"
      ],
      "execution_count": null,
      "outputs": [
        {
          "output_type": "stream",
          "text": [
            "Archive:  /content/traffic-signs-data.zip\n",
            "replace test.p? [y]es, [n]o, [A]ll, [N]one, [r]ename: "
          ],
          "name": "stdout"
        }
      ]
    },
    {
      "cell_type": "code",
      "metadata": {
        "id": "zjSZGU7qHLZf"
      },
      "source": [
        "# Load pickled data\n",
        "import pickle\n",
        "\n",
        "# TODO: Fill this in based on where you saved the training and testing data\n",
        "\n",
        "training_file = \"/content/train.p\"\n",
        "validation_file= \"/content/valid.p\"\n",
        "testing_file = \"/content/test.p\"\n",
        "\n",
        "with open(training_file, mode='rb') as f:\n",
        "    train = pickle.load(f)\n",
        "with open(validation_file, mode='rb') as f:\n",
        "    valid = pickle.load(f)\n",
        "with open(testing_file, mode='rb') as f:\n",
        "    test = pickle.load(f)\n",
        "    \n",
        "X_train, y_train = train['features'], train['labels']\n",
        "X_valid, y_valid = valid['features'], valid['labels']\n",
        "X_test, y_test = test['features'], test['labels']"
      ],
      "execution_count": null,
      "outputs": []
    },
    {
      "cell_type": "markdown",
      "metadata": {
        "id": "cmz4FhvLHLZg"
      },
      "source": [
        "---\n",
        "\n",
        "## Step 1: Dataset Summary & Exploration\n",
        "\n",
        "The pickled data is a dictionary with 4 key/value pairs:\n",
        "\n",
        "- `'features'` is a 4D array containing raw pixel data of the traffic sign images, (num examples, width, height, channels).\n",
        "- `'labels'` is a 1D array containing the label/class id of the traffic sign. The file `signnames.csv` contains id -> name mappings for each id.\n",
        "- `'sizes'` is a list containing tuples, (width, height) representing the original width and height the image.\n",
        "- `'coords'` is a list containing tuples, (x1, y1, x2, y2) representing coordinates of a bounding box around the sign in the image. **THESE COORDINATES ASSUME THE ORIGINAL IMAGE. THE PICKLED DATA CONTAINS RESIZED VERSIONS (32 by 32) OF THESE IMAGES**\n",
        "\n",
        "Complete the basic data summary below. Use python, numpy and/or pandas methods to calculate the data summary rather than hard coding the results. For example, the [pandas shape method](http://pandas.pydata.org/pandas-docs/stable/generated/pandas.DataFrame.shape.html) might be useful for calculating some of the summary results. "
      ]
    },
    {
      "cell_type": "markdown",
      "metadata": {
        "id": "D1N4WFApHLZh"
      },
      "source": [
        "### Provide a Basic Summary of the Data Set Using Python, Numpy and/or Pandas"
      ]
    },
    {
      "cell_type": "code",
      "metadata": {
        "collapsed": true,
        "id": "K0dKaqnOHLZi",
        "colab": {
          "base_uri": "https://localhost:8080/"
        },
        "outputId": "67fd0956-c62e-493c-ff1b-297743ab0ae1"
      },
      "source": [
        "### Replace each question mark with the appropriate value. \n",
        "### Use python, pandas or numpy methods rather than hard coding the results\n",
        "\n",
        "# TODO: Number of training examples\n",
        "n_train = X_train.shape[0]\n",
        "\n",
        "# TODO: Number of validation examples\n",
        "n_validation = X_valid.shape[0]\n",
        "\n",
        "# TODO: Number of testing examples.\n",
        "n_test = X_test.shape[0]\n",
        "\n",
        "# TODO: What's the shape of an traffic sign image?\n",
        "image_shape = X_train[0].shape\n",
        "\n",
        "# TODO: How many unique classes/labels there are in the dataset.\n",
        "n_classes = data['ClassId'].nunique()\n",
        "\n",
        "print(\"Number of training examples =\", n_train)\n",
        "print(\"Number of testing examples =\", n_test)\n",
        "print(\"Image data shape =\", image_shape)\n",
        "print(\"Number of classes =\", n_classes)"
      ],
      "execution_count": null,
      "outputs": [
        {
          "output_type": "stream",
          "text": [
            "Number of training examples = 34799\n",
            "Number of testing examples = 12630\n",
            "Image data shape = (32, 32, 3)\n",
            "Number of classes = 43\n"
          ],
          "name": "stdout"
        }
      ]
    },
    {
      "cell_type": "markdown",
      "metadata": {
        "id": "fZh3Fi2pHLZj"
      },
      "source": [
        "### Include an exploratory visualization of the dataset"
      ]
    },
    {
      "cell_type": "markdown",
      "metadata": {
        "id": "ylz9eJN8HLZj"
      },
      "source": [
        "Visualize the German Traffic Signs Dataset using the pickled file(s). This is open ended, suggestions include: plotting traffic sign images, plotting the count of each sign, etc. \n",
        "\n",
        "The [Matplotlib](http://matplotlib.org/) [examples](http://matplotlib.org/examples/index.html) and [gallery](http://matplotlib.org/gallery.html) pages are a great resource for doing visualizations in Python.\n",
        "\n",
        "**NOTE:** It's recommended you start with something simple first. If you wish to do more, come back to it after you've completed the rest of the sections. It can be interesting to look at the distribution of classes in the training, validation and test set. Is the distribution the same? Are there more examples of some classes than others?"
      ]
    },
    {
      "cell_type": "code",
      "metadata": {
        "collapsed": true,
        "id": "AOHsovqKHLZk"
      },
      "source": [
        "### Data exploration visualization code goes here.\n",
        "### Feel free to use as many code cells as needed.\n",
        "def show_images(img_batch, label_batch):\n",
        "    \n",
        "    plt.imshow(img_batch)\n",
        "    \n",
        "    plt.axis('off')\n",
        "\n",
        "import matplotlib.pyplot as plt\n",
        "# Visualizations will be shown in the notebook.\n",
        "%matplotlib inline\n"
      ],
      "execution_count": null,
      "outputs": []
    },
    {
      "cell_type": "code",
      "metadata": {
        "id": "jBniuupHFk5a"
      },
      "source": [
        "import numpy as np\n",
        "import matplotlib.pyplot as plt\n",
        "import seaborn as sns\n",
        "import matplotlib.image as mpimg\n",
        "from sklearn import model_selection\n",
        "from sklearn import preprocessing\n",
        "\n",
        "import tensorflow as tf\n",
        "\n",
        "import scipy\n",
        "from PIL import Image\n",
        "from scipy import ndimage\n",
        "from tensorflow.keras.preprocessing.image import ImageDataGenerator\n",
        "from tensorflow.keras.models import Sequential\n",
        "from tensorflow.keras.layers import Dense, Flatten, Input, BatchNormalization, Dropout, Conv2D, MaxPooling2D\n",
        "from keras.utils.np_utils import to_categorical"
      ],
      "execution_count": null,
      "outputs": []
    },
    {
      "cell_type": "code",
      "metadata": {
        "colab": {
          "base_uri": "https://localhost:8080/",
          "height": 248
        },
        "id": "NiNObWhpXr6W",
        "outputId": "a7c8c811-b719-44c3-e2e7-f481858e3adb"
      },
      "source": [
        "show_images(X_train[16][:,:,0],y_train[1])"
      ],
      "execution_count": null,
      "outputs": [
        {
          "output_type": "display_data",
          "data": {
            "image/png": "[encoded data removed]",
            "text/plain": [
              "<Figure size 432x288 with 1 Axes>"
            ]
          },
          "metadata": {
            "tags": [],
            "needs_background": "light"
          }
        }
      ]
    },
    {
      "cell_type": "markdown",
      "metadata": {
        "id": "_QIGuyJyHLZl"
      },
      "source": [
        "----\n",
        "\n",
        "## Step 2: Design and Test a Model Architecture\n",
        "\n",
        "Design and implement a deep learning model that learns to recognize traffic signs. Train and test your model on the [German Traffic Sign Dataset](http://benchmark.ini.rub.de/?section=gtsrb&subsection=dataset).\n",
        "\n",
        "The LeNet-5 implementation shown in the [classroom](https://classroom.udacity.com/nanodegrees/nd013/parts/fbf77062-5703-404e-b60c-95b78b2f3f9e/modules/6df7ae49-c61c-4bb2-a23e-6527e69209ec/lessons/601ae704-1035-4287-8b11-e2c2716217ad/concepts/d4aca031-508f-4e0b-b493-e7b706120f81) at the end of the CNN lesson is a solid starting point. You'll have to change the number of classes and possibly the preprocessing, but aside from that it's plug and play! \n",
        "\n",
        "With the LeNet-5 solution from the lecture, you should expect a validation set accuracy of about 0.89. To meet specifications, the validation set accuracy will need to be at least 0.93. It is possible to get an even higher accuracy, but 0.93 is the minimum for a successful project submission. \n",
        "\n",
        "There are various aspects to consider when thinking about this problem:\n",
        "\n",
        "- Neural network architecture (is the network over or underfitting?)\n",
        "- Play around preprocessing techniques (normalization, rgb to grayscale, etc)\n",
        "- Number of examples per label (some have more than others).\n",
        "- Generate fake data.\n",
        "\n",
        "Here is an example of a [published baseline model on this problem](http://yann.lecun.com/exdb/publis/pdf/sermanet-ijcnn-11.pdf). It's not required to be familiar with the approach used in the paper but, it's good practice to try to read papers like these."
      ]
    },
    {
      "cell_type": "markdown",
      "metadata": {
        "id": "iHlSU4OTHLZm"
      },
      "source": [
        "### Pre-process the Data Set (normalization, grayscale, etc.)"
      ]
    },
    {
      "cell_type": "markdown",
      "metadata": {
        "id": "Mp6Xyi5yHLZn"
      },
      "source": [
        "Minimally, the image data should be normalized so that the data has mean zero and equal variance. For image data, `(pixel - 128)/ 128` is a quick way to approximately normalize the data and can be used in this project. \n",
        "\n",
        "Other pre-processing steps are optional. You can try different techniques to see if it improves performance. \n",
        "\n",
        "Use the code cell (or multiple code cells, if necessary) to implement the first step of your project."
      ]
    },
    {
      "cell_type": "code",
      "metadata": {
        "id": "TeIU18GPHLZn"
      },
      "source": [
        "### Preprocess the data here. It is required to normalize the data. Other preprocessing steps could include \n",
        "### converting to grayscale, etc.\n",
        "### Feel free to use as many code cells as needed.\n",
        "\n",
        "batch_size =32                                                             \n",
        "IMG_SHAPE = 32\n",
        "\n",
        "\n",
        "# you dont need this bcoz data set is alredy in prober shape \n",
        "#x_train = np.array(X_train).reshape(-1,IMG_SHAPE,IMG_SHAPE,1)\n",
        "#x_train.shape\n",
        "#x_test = np.array(X_test).reshape(-1,IMG_SHAPE,IMG_SHAPE,1)\n",
        "#x_test.shape\n",
        "#x_valid = np.array(X_valid).reshape(-1,IMG_SHAPE,32,1)\n",
        "#x_valid.shape\n",
        "\n",
        "train_datagen = ImageDataGenerator(                                      \n",
        "    rescale = 1./255,\n",
        "    rotation_range=20,\n",
        "    zoom_range=0.2,\n",
        "    width_shift_range = 0.1,\n",
        "    height_shift_range = 0.1,\n",
        "    validation_split=0.2\n",
        ")\n",
        "\n",
        "train_generator = train_datagen.flow(X_train,y_train, batch_size=batch_size, shuffle=True)\n",
        "validation_generator = train_datagen.flow(X_valid,y_valid, batch_size=batch_size,shuffle=True)\n"
      ],
      "execution_count": null,
      "outputs": []
    },
    {
      "cell_type": "markdown",
      "metadata": {
        "id": "MAT95NrFHLZo"
      },
      "source": [
        "### Model Architecture"
      ]
    },
    {
      "cell_type": "code",
      "metadata": {
        "id": "Ysk3PHExHLZo",
        "colab": {
          "base_uri": "https://localhost:8080/"
        },
        "outputId": "7810eb8e-c2af-4a55-b6ac-7c82c9b2dbbc"
      },
      "source": [
        "### Define your architecture here.\n",
        "### Feel free to use as many code cells as needed.\n",
        "\n",
        "#careful selecting number of filter because we using maxpool we reducing size \n",
        "model = tf.keras.models.Sequential([                                 \n",
        "tf.keras.layers.Conv2D(32, (3,3), activation='relu', padding='same', input_shape=(32,32,3)),\n",
        "tf.keras.layers.MaxPool2D(2,2),\n",
        "tf.keras.layers.BatchNormalization(),\n",
        "tf.keras.layers.Dropout(0.4),\n",
        "tf.keras.layers.Conv2D(32, (3,3), activation='relu', padding='same'),\n",
        "tf.keras.layers.MaxPool2D(2,2),\n",
        "tf.keras.layers.BatchNormalization(),\n",
        "tf.keras.layers.Dropout(0.4),\n",
        "\n",
        "tf.keras.layers.Conv2D(64,(3,3), activation='relu', padding='same'),\n",
        "tf.keras.layers.BatchNormalization(),\n",
        "tf.keras.layers.Dropout(0.4),\n",
        "tf.keras.layers.Conv2D(128,(3,3), activation='relu', padding='same'),\n",
        "tf.keras.layers.BatchNormalization(),\n",
        "tf.keras.layers.Dropout(0.4),\n",
        "\n",
        "tf.keras.layers.Conv2D(128,(3,3), activation='relu', padding='same'),\n",
        "tf.keras.layers.MaxPool2D(2,2),\n",
        "tf.keras.layers.BatchNormalization(),\n",
        "tf.keras.layers.Dropout(0.4),\n",
        "\n",
        "tf.keras.layers.Conv2D(128,(3,3), activation='relu', padding='same'),\n",
        "tf.keras.layers.Conv2D(256,(3,3), activation='relu', padding='same'),\n",
        "tf.keras.layers.MaxPool2D(2,2),\n",
        "tf.keras.layers.BatchNormalization(),\n",
        "tf.keras.layers.Dropout(0.4),\n",
        "\n",
        "tf.keras.layers.Flatten(),\n",
        "tf.keras.layers.Dense(1024, activation='relu'),\n",
        "tf.keras.layers.Dense(512, activation='relu'),\n",
        "tf.keras.layers.Dense(128, activation='relu'),\n",
        "\n",
        "\n",
        "tf.keras.layers.Dense(43, activation='softmax') # we are classifying 43 classes or put n_classes \n",
        "\n",
        "])\n",
        "model.compile(optimizer='adam',loss=tf.keras.losses.SparseCategoricalCrossentropy(),metrics=['accuracy'])\n",
        "model.summary()"
      ],
      "execution_count": null,
      "outputs": [
        {
          "output_type": "stream",
          "text": [
            "Model: \"sequential\"\n",
            "_________________________________________________________________\n",
            "Layer (type)                 Output Shape              Param #   \n",
            "=================================================================\n",
            "conv2d (Conv2D)              (None, 32, 32, 32)        896       \n",
            "_________________________________________________________________\n",
            "max_pooling2d (MaxPooling2D) (None, 16, 16, 32)        0         \n",
            "_________________________________________________________________\n",
            "batch_normalization (BatchNo (None, 16, 16, 32)        128       \n",
            "_________________________________________________________________\n",
            "dropout (Dropout)            (None, 16, 16, 32)        0         \n",
            "_________________________________________________________________\n",
            "conv2d_1 (Conv2D)            (None, 16, 16, 32)        9248      \n",
            "_________________________________________________________________\n",
            "max_pooling2d_1 (MaxPooling2 (None, 8, 8, 32)          0         \n",
            "_________________________________________________________________\n",
            "batch_normalization_1 (Batch (None, 8, 8, 32)          128       \n",
            "_________________________________________________________________\n",
            "dropout_1 (Dropout)          (None, 8, 8, 32)          0         \n",
            "_________________________________________________________________\n",
            "conv2d_2 (Conv2D)            (None, 8, 8, 64)          18496     \n",
            "_________________________________________________________________\n",
            "batch_normalization_2 (Batch (None, 8, 8, 64)          256       \n",
            "_________________________________________________________________\n",
            "dropout_2 (Dropout)          (None, 8, 8, 64)          0         \n",
            "_________________________________________________________________\n",
            "conv2d_3 (Conv2D)            (None, 8, 8, 128)         73856     \n",
            "_________________________________________________________________\n",
            "batch_normalization_3 (Batch (None, 8, 8, 128)         512       \n",
            "_________________________________________________________________\n",
            "dropout_3 (Dropout)          (None, 8, 8, 128)         0         \n",
            "_________________________________________________________________\n",
            "conv2d_4 (Conv2D)            (None, 8, 8, 128)         147584    \n",
            "_________________________________________________________________\n",
            "max_pooling2d_2 (MaxPooling2 (None, 4, 4, 128)         0         \n",
            "_________________________________________________________________\n",
            "batch_normalization_4 (Batch (None, 4, 4, 128)         512       \n",
            "_________________________________________________________________\n",
            "dropout_4 (Dropout)          (None, 4, 4, 128)         0         \n",
            "_________________________________________________________________\n",
            "conv2d_5 (Conv2D)            (None, 4, 4, 128)         147584    \n",
            "_________________________________________________________________\n",
            "conv2d_6 (Conv2D)            (None, 4, 4, 256)         295168    \n",
            "_________________________________________________________________\n",
            "max_pooling2d_3 (MaxPooling2 (None, 2, 2, 256)         0         \n",
            "_________________________________________________________________\n",
            "batch_normalization_5 (Batch (None, 2, 2, 256)         1024      \n",
            "_________________________________________________________________\n",
            "dropout_5 (Dropout)          (None, 2, 2, 256)         0         \n",
            "_________________________________________________________________\n",
            "flatten (Flatten)            (None, 1024)              0         \n",
            "_________________________________________________________________\n",
            "dense (Dense)                (None, 1024)              1049600   \n",
            "_________________________________________________________________\n",
            "dense_1 (Dense)              (None, 512)               524800    \n",
            "_________________________________________________________________\n",
            "dense_2 (Dense)              (None, 128)               65664     \n",
            "_________________________________________________________________\n",
            "dense_3 (Dense)              (None, 43)                5547      \n",
            "=================================================================\n",
            "Total params: 2,341,003\n",
            "Trainable params: 2,339,723\n",
            "Non-trainable params: 1,280\n",
            "_________________________________________________________________\n"
          ],
          "name": "stdout"
        }
      ]
    },
    {
      "cell_type": "markdown",
      "metadata": {
        "id": "c41aU9wLHLZo"
      },
      "source": [
        "### Train, Validate and Test the Model"
      ]
    },
    {
      "cell_type": "markdown",
      "metadata": {
        "id": "5EZMl92OHLZp"
      },
      "source": [
        "A validation set can be used to assess how well the model is performing. A low accuracy on the training and validation\n",
        "sets imply underfitting. A high accuracy on the training set but low accuracy on the validation set implies overfitting."
      ]
    },
    {
      "cell_type": "code",
      "metadata": {
        "collapsed": true,
        "id": "tvaJYxlKHLZp",
        "colab": {
          "base_uri": "https://localhost:8080/"
        },
        "outputId": "69542882-8248-4a38-aa6c-d7052464111a"
      },
      "source": [
        "### Train your model here.\n",
        "### Calculate and report the accuracy on the training and validation set.\n",
        "### Once a final model architecture is selected, \n",
        "### the accuracy on the test set should be calculated and reported as well.\n",
        "### Feel free to use as many code cells as needed.\n",
        "\n",
        "#early_stopping = tf.keras.callbacks.EarlyStopping(patience=0)   callbacks=[early_stopping]\n",
        "\n",
        "BATCH_SIZE=32   \n",
        "\n",
        "history=model.fit(train_generator, validation_data = validation_generator,epochs=50)\n",
        "\n",
        "\n"
      ],
      "execution_count": null,
      "outputs": [
        {
          "output_type": "stream",
          "text": [
            "Epoch 1/50\n",
            "1088/1088 [==============================] - 55s 21ms/step - loss: 2.3793 - accuracy: 0.2909 - val_loss: 1.8209 - val_accuracy: 0.4163\n",
            "Epoch 2/50\n",
            "1088/1088 [==============================] - 22s 20ms/step - loss: 1.4630 - accuracy: 0.5114 - val_loss: 1.1812 - val_accuracy: 0.6186\n",
            "Epoch 3/50\n",
            "1088/1088 [==============================] - 22s 21ms/step - loss: 1.0664 - accuracy: 0.6397 - val_loss: 0.9934 - val_accuracy: 0.7002\n",
            "Epoch 4/50\n",
            "1088/1088 [==============================] - 22s 20ms/step - loss: 0.8329 - accuracy: 0.7236 - val_loss: 0.6885 - val_accuracy: 0.7896\n",
            "Epoch 5/50\n",
            "1088/1088 [==============================] - 22s 20ms/step - loss: 0.7153 - accuracy: 0.7622 - val_loss: 0.6691 - val_accuracy: 0.8265\n",
            "Epoch 6/50\n",
            "1088/1088 [==============================] - 22s 21ms/step - loss: 0.6197 - accuracy: 0.7943 - val_loss: 0.6099 - val_accuracy: 0.8376\n",
            "Epoch 7/50\n",
            "1088/1088 [==============================] - 22s 20ms/step - loss: 0.5647 - accuracy: 0.8132 - val_loss: 0.5863 - val_accuracy: 0.8304\n",
            "Epoch 8/50\n",
            "1088/1088 [==============================] - 22s 21ms/step - loss: 0.5320 - accuracy: 0.8272 - val_loss: 0.5614 - val_accuracy: 0.8580\n",
            "Epoch 9/50\n",
            "1088/1088 [==============================] - 22s 20ms/step - loss: 0.4850 - accuracy: 0.8398 - val_loss: 0.4687 - val_accuracy: 0.8832\n",
            "Epoch 10/50\n",
            "1088/1088 [==============================] - 22s 20ms/step - loss: 0.4601 - accuracy: 0.8490 - val_loss: 0.5020 - val_accuracy: 0.8710\n",
            "Epoch 11/50\n",
            "1088/1088 [==============================] - 22s 20ms/step - loss: 0.4235 - accuracy: 0.8624 - val_loss: 0.5846 - val_accuracy: 0.8651\n",
            "Epoch 12/50\n",
            "1088/1088 [==============================] - 22s 20ms/step - loss: 0.4199 - accuracy: 0.8658 - val_loss: 0.4794 - val_accuracy: 0.8789\n",
            "Epoch 13/50\n",
            "1088/1088 [==============================] - 22s 20ms/step - loss: 0.3957 - accuracy: 0.8710 - val_loss: 0.5260 - val_accuracy: 0.8726\n",
            "Epoch 14/50\n",
            "1088/1088 [==============================] - 22s 20ms/step - loss: 0.3762 - accuracy: 0.8770 - val_loss: 0.5946 - val_accuracy: 0.8823\n",
            "Epoch 15/50\n",
            "1088/1088 [==============================] - 22s 20ms/step - loss: 0.3649 - accuracy: 0.8811 - val_loss: 0.5904 - val_accuracy: 0.8714\n",
            "Epoch 16/50\n",
            "1088/1088 [==============================] - 22s 20ms/step - loss: 0.3507 - accuracy: 0.8863 - val_loss: 0.5110 - val_accuracy: 0.8891\n",
            "Epoch 17/50\n",
            "1088/1088 [==============================] - 22s 20ms/step - loss: 0.3414 - accuracy: 0.8903 - val_loss: 0.4413 - val_accuracy: 0.8955\n",
            "Epoch 18/50\n",
            "1088/1088 [==============================] - 22s 20ms/step - loss: 0.3308 - accuracy: 0.8956 - val_loss: 0.5326 - val_accuracy: 0.8937\n",
            "Epoch 19/50\n",
            "1088/1088 [==============================] - 22s 20ms/step - loss: 0.3205 - accuracy: 0.8965 - val_loss: 0.4128 - val_accuracy: 0.8989\n",
            "Epoch 20/50\n",
            "1088/1088 [==============================] - 22s 20ms/step - loss: 0.3129 - accuracy: 0.8983 - val_loss: 0.4749 - val_accuracy: 0.9041\n",
            "Epoch 21/50\n",
            "1088/1088 [==============================] - 22s 20ms/step - loss: 0.3060 - accuracy: 0.9001 - val_loss: 0.4773 - val_accuracy: 0.9000\n",
            "Epoch 22/50\n",
            "1088/1088 [==============================] - 22s 21ms/step - loss: 0.2995 - accuracy: 0.9054 - val_loss: 0.4524 - val_accuracy: 0.9122\n",
            "Epoch 23/50\n",
            "1088/1088 [==============================] - 22s 20ms/step - loss: 0.2880 - accuracy: 0.9080 - val_loss: 0.5216 - val_accuracy: 0.9007\n",
            "Epoch 24/50\n",
            "1088/1088 [==============================] - 22s 20ms/step - loss: 0.2896 - accuracy: 0.9074 - val_loss: 0.4233 - val_accuracy: 0.9061\n",
            "Epoch 25/50\n",
            "1088/1088 [==============================] - 22s 20ms/step - loss: 0.2816 - accuracy: 0.9102 - val_loss: 0.4588 - val_accuracy: 0.9116\n",
            "Epoch 26/50\n",
            "1088/1088 [==============================] - 22s 20ms/step - loss: 0.2749 - accuracy: 0.9125 - val_loss: 0.5200 - val_accuracy: 0.8973\n",
            "Epoch 27/50\n",
            "1088/1088 [==============================] - 22s 20ms/step - loss: 0.2665 - accuracy: 0.9137 - val_loss: 0.5284 - val_accuracy: 0.8986\n",
            "Epoch 28/50\n",
            "1088/1088 [==============================] - 22s 20ms/step - loss: 0.2552 - accuracy: 0.9178 - val_loss: 0.4434 - val_accuracy: 0.9068\n",
            "Epoch 29/50\n",
            "1088/1088 [==============================] - 22s 20ms/step - loss: 0.2580 - accuracy: 0.9157 - val_loss: 0.4542 - val_accuracy: 0.9107\n",
            "Epoch 30/50\n",
            "1088/1088 [==============================] - 22s 20ms/step - loss: 0.2586 - accuracy: 0.9167 - val_loss: 0.5309 - val_accuracy: 0.9048\n",
            "Epoch 31/50\n",
            "1088/1088 [==============================] - 22s 20ms/step - loss: 0.2409 - accuracy: 0.9239 - val_loss: 0.3071 - val_accuracy: 0.9288\n",
            "Epoch 32/50\n",
            "1088/1088 [==============================] - 22s 20ms/step - loss: 0.2446 - accuracy: 0.9207 - val_loss: 0.4627 - val_accuracy: 0.9179\n",
            "Epoch 33/50\n",
            "1088/1088 [==============================] - 22s 20ms/step - loss: 0.2390 - accuracy: 0.9241 - val_loss: 0.4587 - val_accuracy: 0.9054\n",
            "Epoch 34/50\n",
            "1088/1088 [==============================] - 22s 20ms/step - loss: 0.2310 - accuracy: 0.9259 - val_loss: 0.4646 - val_accuracy: 0.9138\n",
            "Epoch 35/50\n",
            "1088/1088 [==============================] - 22s 20ms/step - loss: 0.2387 - accuracy: 0.9239 - val_loss: 0.5957 - val_accuracy: 0.9052\n",
            "Epoch 36/50\n",
            "1088/1088 [==============================] - 22s 20ms/step - loss: 0.2304 - accuracy: 0.9258 - val_loss: 0.5103 - val_accuracy: 0.9184\n",
            "Epoch 37/50\n",
            "1088/1088 [==============================] - 22s 20ms/step - loss: 0.2272 - accuracy: 0.9274 - val_loss: 0.4137 - val_accuracy: 0.9143\n",
            "Epoch 38/50\n",
            "1088/1088 [==============================] - 22s 20ms/step - loss: 0.2207 - accuracy: 0.9309 - val_loss: 0.4397 - val_accuracy: 0.9190\n",
            "Epoch 39/50\n",
            "1088/1088 [==============================] - 22s 20ms/step - loss: 0.2231 - accuracy: 0.9299 - val_loss: 0.3675 - val_accuracy: 0.9259\n",
            "Epoch 40/50\n",
            "1088/1088 [==============================] - 22s 20ms/step - loss: 0.2207 - accuracy: 0.9309 - val_loss: 0.4658 - val_accuracy: 0.9084\n",
            "Epoch 41/50\n",
            "1088/1088 [==============================] - 22s 20ms/step - loss: 0.2099 - accuracy: 0.9332 - val_loss: 0.4494 - val_accuracy: 0.9161\n",
            "Epoch 42/50\n",
            "1088/1088 [==============================] - 22s 20ms/step - loss: 0.2163 - accuracy: 0.9313 - val_loss: 0.3924 - val_accuracy: 0.9290\n",
            "Epoch 43/50\n",
            "1088/1088 [==============================] - 22s 20ms/step - loss: 0.2067 - accuracy: 0.9343 - val_loss: 0.4903 - val_accuracy: 0.9236\n",
            "Epoch 44/50\n",
            "1088/1088 [==============================] - 22s 20ms/step - loss: 0.2034 - accuracy: 0.9369 - val_loss: 0.4636 - val_accuracy: 0.9132\n",
            "Epoch 45/50\n",
            "1088/1088 [==============================] - 22s 20ms/step - loss: 0.2044 - accuracy: 0.9355 - val_loss: 0.4619 - val_accuracy: 0.9138\n",
            "Epoch 46/50\n",
            "1088/1088 [==============================] - 22s 20ms/step - loss: 0.1958 - accuracy: 0.9378 - val_loss: 0.5276 - val_accuracy: 0.9132\n",
            "Epoch 47/50\n",
            "1088/1088 [==============================] - 22s 21ms/step - loss: 0.1966 - accuracy: 0.9383 - val_loss: 0.5121 - val_accuracy: 0.9161\n",
            "Epoch 48/50\n",
            "1088/1088 [==============================] - 22s 20ms/step - loss: 0.1911 - accuracy: 0.9408 - val_loss: 0.5119 - val_accuracy: 0.9138\n",
            "Epoch 49/50\n",
            "1088/1088 [==============================] - 22s 20ms/step - loss: 0.1952 - accuracy: 0.9386 - val_loss: 0.4074 - val_accuracy: 0.9252\n",
            "Epoch 50/50\n",
            "1088/1088 [==============================] - 22s 20ms/step - loss: 0.1955 - accuracy: 0.9396 - val_loss: 0.4474 - val_accuracy: 0.9188\n"
          ],
          "name": "stdout"
        }
      ]
    },
    {
      "cell_type": "code",
      "metadata": {
        "id": "Fp7UT205abKN"
      },
      "source": [
        "\n",
        "normalized_test_X = X_test/255."
      ],
      "execution_count": null,
      "outputs": []
    },
    {
      "cell_type": "code",
      "metadata": {
        "colab": {
          "base_uri": "https://localhost:8080/"
        },
        "id": "0k_aj25lrQml",
        "outputId": "88ac0d2b-9f09-4e7b-fee3-38e2da518a18"
      },
      "source": [
        "test_loss, test_accuracy = model.evaluate(normalized_test_X,y_test)\n",
        "print('Accuracy on test dataset:', test_accuracy)"
      ],
      "execution_count": null,
      "outputs": [
        {
          "output_type": "stream",
          "text": [
            "395/395 [==============================] - 2s 4ms/step - loss: 0.3223 - accuracy: 0.9340\n",
            "Accuracy on test dataset: 0.9340459108352661\n"
          ],
          "name": "stdout"
        }
      ]
    },
    {
      "cell_type": "markdown",
      "metadata": {
        "id": "6Q2IlrvnHLZp"
      },
      "source": [
        "---\n",
        "\n",
        "## Step 3: Test a Model on New Images\n",
        "\n",
        "To give yourself more insight into how your model is working, download at least five pictures of German traffic signs from the web and use your model to predict the traffic sign type.\n",
        "\n",
        "You may find `signnames.csv` useful as it contains mappings from the class id (integer) to the actual sign name."
      ]
    },
    {
      "cell_type": "markdown",
      "metadata": {
        "id": "0vceX4FoHLZq"
      },
      "source": [
        "### Load and Output the Images"
      ]
    },
    {
      "cell_type": "code",
      "metadata": {
        "id": "pZCmOkrs-Sjd"
      },
      "source": [
        "import cv2\n",
        "\n",
        "def image_array(fname):\n",
        "  image = cv2.cvtColor(cv2.imread(fname), cv2.COLOR_BGR2RGB)\n",
        "  my_image = cv2.resize(image, dsize=(32,32))\n",
        "  img=np.array(my_image).reshape(-1,32,32,3)\n",
        "  plt.imshow(my_image)\n",
        "  return img"
      ],
      "execution_count": null,
      "outputs": []
    },
    {
      "cell_type": "markdown",
      "metadata": {
        "id": "5BE09nvJHXPD"
      },
      "source": []
    },
    {
      "cell_type": "code",
      "metadata": {
        "collapsed": true,
        "id": "uTp6rBlFHLZq",
        "colab": {
          "base_uri": "https://localhost:8080/",
          "height": 266
        },
        "outputId": "95619f74-6318-4512-a218-0720925ce3b8"
      },
      "source": [
        "### Load the images and plot them here.\n",
        "### Feel free to use as many code cells as needed.\n",
        "\n",
        "img1 = image_array('/content/download1.png')\n",
        "img2 = image_array('/content/download2.png')\n",
        "img3 = image_array('/content/download3.png')\n",
        "img4 = image_array('/content/download4.png')\n",
        "img5 = image_array('/content/download5.png')\n"
      ],
      "execution_count": null,
      "outputs": [
        {
          "output_type": "display_data",
          "data": {
            "image/png": "[encoded data removed]",
            "text/plain": [
              "<Figure size 432x288 with 1 Axes>"
            ]
          },
          "metadata": {
            "tags": [],
            "needs_background": "light"
          }
        }
      ]
    },
    {
      "cell_type": "code",
      "metadata": {
        "colab": {
          "base_uri": "https://localhost:8080/",
          "height": 266
        },
        "id": "wWq-My3sCgXz",
        "outputId": "2dcc82cf-7669-48d3-9d48-bb54669908ea"
      },
      "source": [
        "img1 = image_array('/content/download.png')\n"
      ],
      "execution_count": null,
      "outputs": [
        {
          "output_type": "display_data",
          "data": {
            "image/png": "[encoded data removed]",
            "text/plain": [
              "<Figure size 432x288 with 1 Axes>"
            ]
          },
          "metadata": {
            "tags": [],
            "needs_background": "light"
          }
        }
      ]
    },
    {
      "cell_type": "code",
      "metadata": {
        "colab": {
          "base_uri": "https://localhost:8080/"
        },
        "id": "TNxJ7vp0I9xd",
        "outputId": "50757a7f-c0bb-40a5-e84a-f107f95a272b"
      },
      "source": [
        "\n",
        "img1.shape"
      ],
      "execution_count": null,
      "outputs": [
        {
          "output_type": "execute_result",
          "data": {
            "text/plain": [
              "(1, 32, 32, 3)"
            ]
          },
          "metadata": {
            "tags": []
          },
          "execution_count": 15
        }
      ]
    },
    {
      "cell_type": "markdown",
      "metadata": {
        "id": "H3fIvJHeHLZq"
      },
      "source": [
        "### Predict the Sign Type for Each Image"
      ]
    },
    {
      "cell_type": "code",
      "metadata": {
        "id": "U7dnt6fMHLZr",
        "colab": {
          "base_uri": "https://localhost:8080/",
          "height": 731
        },
        "outputId": "6ad4fe32-de9d-4a42-8f82-ea8f06f8aaf0"
      },
      "source": [
        "### Run the predictions here and use the model to output the prediction for each image.\n",
        "### Make sure to pre-process the images with the same pre-processing pipeline used earlier.\n",
        "### Feel free to use as many code cells as needed.\n",
        "image1=img1/255.\n",
        "image2=img2/255.\n",
        "image3=img3/255.\n",
        "image4=img4/255.\n",
        "image5=img5/255.\n",
        "\n",
        "predictions1 = model.predict(image1)\n",
        "prediction_classes = np.argmax(predictions1, axis=1)\n",
        "\n"
      ],
      "execution_count": null,
      "outputs": [
        {
          "output_type": "error",
          "ename": "ValueError",
          "evalue": "ignored",
          "traceback": [
            "\u001b[0;31m---------------------------------------------------------------------------\u001b[0m",
            "\u001b[0;31mValueError\u001b[0m                                Traceback (most recent call last)",
            "\u001b[0;32m<ipython-input-31-c3efb9b5940a>\u001b[0m in \u001b[0;36m<module>\u001b[0;34m()\u001b[0m\n\u001b[1;32m      8\u001b[0m \u001b[0mimage5\u001b[0m\u001b[0;34m=\u001b[0m\u001b[0mimg5\u001b[0m\u001b[0;34m/\u001b[0m\u001b[0;36m255.\u001b[0m\u001b[0;34m\u001b[0m\u001b[0;34m\u001b[0m\u001b[0m\n\u001b[1;32m      9\u001b[0m \u001b[0;34m\u001b[0m\u001b[0m\n\u001b[0;32m---> 10\u001b[0;31m \u001b[0mpredictions1\u001b[0m \u001b[0;34m=\u001b[0m \u001b[0mmodel\u001b[0m\u001b[0;34m.\u001b[0m\u001b[0mpredict\u001b[0m\u001b[0;34m(\u001b[0m\u001b[0mimage1\u001b[0m\u001b[0;34m)\u001b[0m\u001b[0;34m\u001b[0m\u001b[0;34m\u001b[0m\u001b[0m\n\u001b[0m\u001b[1;32m     11\u001b[0m \u001b[0mprediction_classes\u001b[0m \u001b[0;34m=\u001b[0m \u001b[0mnp\u001b[0m\u001b[0;34m.\u001b[0m\u001b[0margmax\u001b[0m\u001b[0;34m(\u001b[0m\u001b[0mpredictions1\u001b[0m\u001b[0;34m,\u001b[0m \u001b[0maxis\u001b[0m\u001b[0;34m=\u001b[0m\u001b[0;36m1\u001b[0m\u001b[0;34m)\u001b[0m\u001b[0;34m\u001b[0m\u001b[0;34m\u001b[0m\u001b[0m\n\u001b[1;32m     12\u001b[0m \u001b[0;34m\u001b[0m\u001b[0m\n",
            "\u001b[0;32m/usr/local/lib/python3.7/dist-packages/tensorflow/python/keras/engine/training.py\u001b[0m in \u001b[0;36mpredict\u001b[0;34m(self, x, batch_size, verbose, steps, callbacks, max_queue_size, workers, use_multiprocessing)\u001b[0m\n\u001b[1;32m   1725\u001b[0m           \u001b[0;32mfor\u001b[0m \u001b[0mstep\u001b[0m \u001b[0;32min\u001b[0m \u001b[0mdata_handler\u001b[0m\u001b[0;34m.\u001b[0m\u001b[0msteps\u001b[0m\u001b[0;34m(\u001b[0m\u001b[0;34m)\u001b[0m\u001b[0;34m:\u001b[0m\u001b[0;34m\u001b[0m\u001b[0;34m\u001b[0m\u001b[0m\n\u001b[1;32m   1726\u001b[0m             \u001b[0mcallbacks\u001b[0m\u001b[0;34m.\u001b[0m\u001b[0mon_predict_batch_begin\u001b[0m\u001b[0;34m(\u001b[0m\u001b[0mstep\u001b[0m\u001b[0;34m)\u001b[0m\u001b[0;34m\u001b[0m\u001b[0;34m\u001b[0m\u001b[0m\n\u001b[0;32m-> 1727\u001b[0;31m             \u001b[0mtmp_batch_outputs\u001b[0m \u001b[0;34m=\u001b[0m \u001b[0mself\u001b[0m\u001b[0;34m.\u001b[0m\u001b[0mpredict_function\u001b[0m\u001b[0;34m(\u001b[0m\u001b[0miterator\u001b[0m\u001b[0;34m)\u001b[0m\u001b[0;34m\u001b[0m\u001b[0;34m\u001b[0m\u001b[0m\n\u001b[0m\u001b[1;32m   1728\u001b[0m             \u001b[0;32mif\u001b[0m \u001b[0mdata_handler\u001b[0m\u001b[0;34m.\u001b[0m\u001b[0mshould_sync\u001b[0m\u001b[0;34m:\u001b[0m\u001b[0;34m\u001b[0m\u001b[0;34m\u001b[0m\u001b[0m\n\u001b[1;32m   1729\u001b[0m               \u001b[0mcontext\u001b[0m\u001b[0;34m.\u001b[0m\u001b[0masync_wait\u001b[0m\u001b[0;34m(\u001b[0m\u001b[0;34m)\u001b[0m\u001b[0;34m\u001b[0m\u001b[0;34m\u001b[0m\u001b[0m\n",
            "\u001b[0;32m/usr/local/lib/python3.7/dist-packages/tensorflow/python/eager/def_function.py\u001b[0m in \u001b[0;36m__call__\u001b[0;34m(self, *args, **kwds)\u001b[0m\n\u001b[1;32m    887\u001b[0m \u001b[0;34m\u001b[0m\u001b[0m\n\u001b[1;32m    888\u001b[0m       \u001b[0;32mwith\u001b[0m \u001b[0mOptionalXlaContext\u001b[0m\u001b[0;34m(\u001b[0m\u001b[0mself\u001b[0m\u001b[0;34m.\u001b[0m\u001b[0m_jit_compile\u001b[0m\u001b[0;34m)\u001b[0m\u001b[0;34m:\u001b[0m\u001b[0;34m\u001b[0m\u001b[0;34m\u001b[0m\u001b[0m\n\u001b[0;32m--> 889\u001b[0;31m         \u001b[0mresult\u001b[0m \u001b[0;34m=\u001b[0m \u001b[0mself\u001b[0m\u001b[0;34m.\u001b[0m\u001b[0m_call\u001b[0m\u001b[0;34m(\u001b[0m\u001b[0;34m*\u001b[0m\u001b[0margs\u001b[0m\u001b[0;34m,\u001b[0m \u001b[0;34m**\u001b[0m\u001b[0mkwds\u001b[0m\u001b[0;34m)\u001b[0m\u001b[0;34m\u001b[0m\u001b[0;34m\u001b[0m\u001b[0m\n\u001b[0m\u001b[1;32m    890\u001b[0m \u001b[0;34m\u001b[0m\u001b[0m\n\u001b[1;32m    891\u001b[0m       \u001b[0mnew_tracing_count\u001b[0m \u001b[0;34m=\u001b[0m \u001b[0mself\u001b[0m\u001b[0;34m.\u001b[0m\u001b[0mexperimental_get_tracing_count\u001b[0m\u001b[0;34m(\u001b[0m\u001b[0;34m)\u001b[0m\u001b[0;34m\u001b[0m\u001b[0;34m\u001b[0m\u001b[0m\n",
            "\u001b[0;32m/usr/local/lib/python3.7/dist-packages/tensorflow/python/eager/def_function.py\u001b[0m in \u001b[0;36m_call\u001b[0;34m(self, *args, **kwds)\u001b[0m\n\u001b[1;32m    931\u001b[0m       \u001b[0;31m# This is the first call of __call__, so we have to initialize.\u001b[0m\u001b[0;34m\u001b[0m\u001b[0;34m\u001b[0m\u001b[0;34m\u001b[0m\u001b[0m\n\u001b[1;32m    932\u001b[0m       \u001b[0minitializers\u001b[0m \u001b[0;34m=\u001b[0m \u001b[0;34m[\u001b[0m\u001b[0;34m]\u001b[0m\u001b[0;34m\u001b[0m\u001b[0;34m\u001b[0m\u001b[0m\n\u001b[0;32m--> 933\u001b[0;31m       \u001b[0mself\u001b[0m\u001b[0;34m.\u001b[0m\u001b[0m_initialize\u001b[0m\u001b[0;34m(\u001b[0m\u001b[0margs\u001b[0m\u001b[0;34m,\u001b[0m \u001b[0mkwds\u001b[0m\u001b[0;34m,\u001b[0m \u001b[0madd_initializers_to\u001b[0m\u001b[0;34m=\u001b[0m\u001b[0minitializers\u001b[0m\u001b[0;34m)\u001b[0m\u001b[0;34m\u001b[0m\u001b[0;34m\u001b[0m\u001b[0m\n\u001b[0m\u001b[1;32m    934\u001b[0m     \u001b[0;32mfinally\u001b[0m\u001b[0;34m:\u001b[0m\u001b[0;34m\u001b[0m\u001b[0;34m\u001b[0m\u001b[0m\n\u001b[1;32m    935\u001b[0m       \u001b[0;31m# At this point we know that the initialization is complete (or less\u001b[0m\u001b[0;34m\u001b[0m\u001b[0;34m\u001b[0m\u001b[0;34m\u001b[0m\u001b[0m\n",
            "\u001b[0;32m/usr/local/lib/python3.7/dist-packages/tensorflow/python/eager/def_function.py\u001b[0m in \u001b[0;36m_initialize\u001b[0;34m(self, args, kwds, add_initializers_to)\u001b[0m\n\u001b[1;32m    762\u001b[0m     self._concrete_stateful_fn = (\n\u001b[1;32m    763\u001b[0m         self._stateful_fn._get_concrete_function_internal_garbage_collected(  # pylint: disable=protected-access\n\u001b[0;32m--> 764\u001b[0;31m             *args, **kwds))\n\u001b[0m\u001b[1;32m    765\u001b[0m \u001b[0;34m\u001b[0m\u001b[0m\n\u001b[1;32m    766\u001b[0m     \u001b[0;32mdef\u001b[0m \u001b[0minvalid_creator_scope\u001b[0m\u001b[0;34m(\u001b[0m\u001b[0;34m*\u001b[0m\u001b[0munused_args\u001b[0m\u001b[0;34m,\u001b[0m \u001b[0;34m**\u001b[0m\u001b[0munused_kwds\u001b[0m\u001b[0;34m)\u001b[0m\u001b[0;34m:\u001b[0m\u001b[0;34m\u001b[0m\u001b[0;34m\u001b[0m\u001b[0m\n",
            "\u001b[0;32m/usr/local/lib/python3.7/dist-packages/tensorflow/python/eager/function.py\u001b[0m in \u001b[0;36m_get_concrete_function_internal_garbage_collected\u001b[0;34m(self, *args, **kwargs)\u001b[0m\n\u001b[1;32m   3048\u001b[0m       \u001b[0margs\u001b[0m\u001b[0;34m,\u001b[0m \u001b[0mkwargs\u001b[0m \u001b[0;34m=\u001b[0m \u001b[0;32mNone\u001b[0m\u001b[0;34m,\u001b[0m \u001b[0;32mNone\u001b[0m\u001b[0;34m\u001b[0m\u001b[0;34m\u001b[0m\u001b[0m\n\u001b[1;32m   3049\u001b[0m     \u001b[0;32mwith\u001b[0m \u001b[0mself\u001b[0m\u001b[0;34m.\u001b[0m\u001b[0m_lock\u001b[0m\u001b[0;34m:\u001b[0m\u001b[0;34m\u001b[0m\u001b[0;34m\u001b[0m\u001b[0m\n\u001b[0;32m-> 3050\u001b[0;31m       \u001b[0mgraph_function\u001b[0m\u001b[0;34m,\u001b[0m \u001b[0m_\u001b[0m \u001b[0;34m=\u001b[0m \u001b[0mself\u001b[0m\u001b[0;34m.\u001b[0m\u001b[0m_maybe_define_function\u001b[0m\u001b[0;34m(\u001b[0m\u001b[0margs\u001b[0m\u001b[0;34m,\u001b[0m \u001b[0mkwargs\u001b[0m\u001b[0;34m)\u001b[0m\u001b[0;34m\u001b[0m\u001b[0;34m\u001b[0m\u001b[0m\n\u001b[0m\u001b[1;32m   3051\u001b[0m     \u001b[0;32mreturn\u001b[0m \u001b[0mgraph_function\u001b[0m\u001b[0;34m\u001b[0m\u001b[0;34m\u001b[0m\u001b[0m\n\u001b[1;32m   3052\u001b[0m \u001b[0;34m\u001b[0m\u001b[0m\n",
            "\u001b[0;32m/usr/local/lib/python3.7/dist-packages/tensorflow/python/eager/function.py\u001b[0m in \u001b[0;36m_maybe_define_function\u001b[0;34m(self, args, kwargs)\u001b[0m\n\u001b[1;32m   3442\u001b[0m \u001b[0;34m\u001b[0m\u001b[0m\n\u001b[1;32m   3443\u001b[0m           \u001b[0mself\u001b[0m\u001b[0;34m.\u001b[0m\u001b[0m_function_cache\u001b[0m\u001b[0;34m.\u001b[0m\u001b[0mmissed\u001b[0m\u001b[0;34m.\u001b[0m\u001b[0madd\u001b[0m\u001b[0;34m(\u001b[0m\u001b[0mcall_context_key\u001b[0m\u001b[0;34m)\u001b[0m\u001b[0;34m\u001b[0m\u001b[0;34m\u001b[0m\u001b[0m\n\u001b[0;32m-> 3444\u001b[0;31m           \u001b[0mgraph_function\u001b[0m \u001b[0;34m=\u001b[0m \u001b[0mself\u001b[0m\u001b[0;34m.\u001b[0m\u001b[0m_create_graph_function\u001b[0m\u001b[0;34m(\u001b[0m\u001b[0margs\u001b[0m\u001b[0;34m,\u001b[0m \u001b[0mkwargs\u001b[0m\u001b[0;34m)\u001b[0m\u001b[0;34m\u001b[0m\u001b[0;34m\u001b[0m\u001b[0m\n\u001b[0m\u001b[1;32m   3445\u001b[0m           \u001b[0mself\u001b[0m\u001b[0;34m.\u001b[0m\u001b[0m_function_cache\u001b[0m\u001b[0;34m.\u001b[0m\u001b[0mprimary\u001b[0m\u001b[0;34m[\u001b[0m\u001b[0mcache_key\u001b[0m\u001b[0;34m]\u001b[0m \u001b[0;34m=\u001b[0m \u001b[0mgraph_function\u001b[0m\u001b[0;34m\u001b[0m\u001b[0;34m\u001b[0m\u001b[0m\n\u001b[1;32m   3446\u001b[0m \u001b[0;34m\u001b[0m\u001b[0m\n",
            "\u001b[0;32m/usr/local/lib/python3.7/dist-packages/tensorflow/python/eager/function.py\u001b[0m in \u001b[0;36m_create_graph_function\u001b[0;34m(self, args, kwargs, override_flat_arg_shapes)\u001b[0m\n\u001b[1;32m   3287\u001b[0m             \u001b[0marg_names\u001b[0m\u001b[0;34m=\u001b[0m\u001b[0marg_names\u001b[0m\u001b[0;34m,\u001b[0m\u001b[0;34m\u001b[0m\u001b[0;34m\u001b[0m\u001b[0m\n\u001b[1;32m   3288\u001b[0m             \u001b[0moverride_flat_arg_shapes\u001b[0m\u001b[0;34m=\u001b[0m\u001b[0moverride_flat_arg_shapes\u001b[0m\u001b[0;34m,\u001b[0m\u001b[0;34m\u001b[0m\u001b[0;34m\u001b[0m\u001b[0m\n\u001b[0;32m-> 3289\u001b[0;31m             capture_by_value=self._capture_by_value),\n\u001b[0m\u001b[1;32m   3290\u001b[0m         \u001b[0mself\u001b[0m\u001b[0;34m.\u001b[0m\u001b[0m_function_attributes\u001b[0m\u001b[0;34m,\u001b[0m\u001b[0;34m\u001b[0m\u001b[0;34m\u001b[0m\u001b[0m\n\u001b[1;32m   3291\u001b[0m         \u001b[0mfunction_spec\u001b[0m\u001b[0;34m=\u001b[0m\u001b[0mself\u001b[0m\u001b[0;34m.\u001b[0m\u001b[0mfunction_spec\u001b[0m\u001b[0;34m,\u001b[0m\u001b[0;34m\u001b[0m\u001b[0;34m\u001b[0m\u001b[0m\n",
            "\u001b[0;32m/usr/local/lib/python3.7/dist-packages/tensorflow/python/framework/func_graph.py\u001b[0m in \u001b[0;36mfunc_graph_from_py_func\u001b[0;34m(name, python_func, args, kwargs, signature, func_graph, autograph, autograph_options, add_control_dependencies, arg_names, op_return_value, collections, capture_by_value, override_flat_arg_shapes)\u001b[0m\n\u001b[1;32m    997\u001b[0m         \u001b[0m_\u001b[0m\u001b[0;34m,\u001b[0m \u001b[0moriginal_func\u001b[0m \u001b[0;34m=\u001b[0m \u001b[0mtf_decorator\u001b[0m\u001b[0;34m.\u001b[0m\u001b[0munwrap\u001b[0m\u001b[0;34m(\u001b[0m\u001b[0mpython_func\u001b[0m\u001b[0;34m)\u001b[0m\u001b[0;34m\u001b[0m\u001b[0;34m\u001b[0m\u001b[0m\n\u001b[1;32m    998\u001b[0m \u001b[0;34m\u001b[0m\u001b[0m\n\u001b[0;32m--> 999\u001b[0;31m       \u001b[0mfunc_outputs\u001b[0m \u001b[0;34m=\u001b[0m \u001b[0mpython_func\u001b[0m\u001b[0;34m(\u001b[0m\u001b[0;34m*\u001b[0m\u001b[0mfunc_args\u001b[0m\u001b[0;34m,\u001b[0m \u001b[0;34m**\u001b[0m\u001b[0mfunc_kwargs\u001b[0m\u001b[0;34m)\u001b[0m\u001b[0;34m\u001b[0m\u001b[0;34m\u001b[0m\u001b[0m\n\u001b[0m\u001b[1;32m   1000\u001b[0m \u001b[0;34m\u001b[0m\u001b[0m\n\u001b[1;32m   1001\u001b[0m       \u001b[0;31m# invariant: `func_outputs` contains only Tensors, CompositeTensors,\u001b[0m\u001b[0;34m\u001b[0m\u001b[0;34m\u001b[0m\u001b[0;34m\u001b[0m\u001b[0m\n",
            "\u001b[0;32m/usr/local/lib/python3.7/dist-packages/tensorflow/python/eager/def_function.py\u001b[0m in \u001b[0;36mwrapped_fn\u001b[0;34m(*args, **kwds)\u001b[0m\n\u001b[1;32m    670\u001b[0m         \u001b[0;31m# the function a weak reference to itself to avoid a reference cycle.\u001b[0m\u001b[0;34m\u001b[0m\u001b[0;34m\u001b[0m\u001b[0;34m\u001b[0m\u001b[0m\n\u001b[1;32m    671\u001b[0m         \u001b[0;32mwith\u001b[0m \u001b[0mOptionalXlaContext\u001b[0m\u001b[0;34m(\u001b[0m\u001b[0mcompile_with_xla\u001b[0m\u001b[0;34m)\u001b[0m\u001b[0;34m:\u001b[0m\u001b[0;34m\u001b[0m\u001b[0;34m\u001b[0m\u001b[0m\n\u001b[0;32m--> 672\u001b[0;31m           \u001b[0mout\u001b[0m \u001b[0;34m=\u001b[0m \u001b[0mweak_wrapped_fn\u001b[0m\u001b[0;34m(\u001b[0m\u001b[0;34m)\u001b[0m\u001b[0;34m.\u001b[0m\u001b[0m__wrapped__\u001b[0m\u001b[0;34m(\u001b[0m\u001b[0;34m*\u001b[0m\u001b[0margs\u001b[0m\u001b[0;34m,\u001b[0m \u001b[0;34m**\u001b[0m\u001b[0mkwds\u001b[0m\u001b[0;34m)\u001b[0m\u001b[0;34m\u001b[0m\u001b[0;34m\u001b[0m\u001b[0m\n\u001b[0m\u001b[1;32m    673\u001b[0m         \u001b[0;32mreturn\u001b[0m \u001b[0mout\u001b[0m\u001b[0;34m\u001b[0m\u001b[0;34m\u001b[0m\u001b[0m\n\u001b[1;32m    674\u001b[0m \u001b[0;34m\u001b[0m\u001b[0m\n",
            "\u001b[0;32m/usr/local/lib/python3.7/dist-packages/tensorflow/python/framework/func_graph.py\u001b[0m in \u001b[0;36mwrapper\u001b[0;34m(*args, **kwargs)\u001b[0m\n\u001b[1;32m    984\u001b[0m           \u001b[0;32mexcept\u001b[0m \u001b[0mException\u001b[0m \u001b[0;32mas\u001b[0m \u001b[0me\u001b[0m\u001b[0;34m:\u001b[0m  \u001b[0;31m# pylint:disable=broad-except\u001b[0m\u001b[0;34m\u001b[0m\u001b[0;34m\u001b[0m\u001b[0m\n\u001b[1;32m    985\u001b[0m             \u001b[0;32mif\u001b[0m \u001b[0mhasattr\u001b[0m\u001b[0;34m(\u001b[0m\u001b[0me\u001b[0m\u001b[0;34m,\u001b[0m \u001b[0;34m\"ag_error_metadata\"\u001b[0m\u001b[0;34m)\u001b[0m\u001b[0;34m:\u001b[0m\u001b[0;34m\u001b[0m\u001b[0;34m\u001b[0m\u001b[0m\n\u001b[0;32m--> 986\u001b[0;31m               \u001b[0;32mraise\u001b[0m \u001b[0me\u001b[0m\u001b[0;34m.\u001b[0m\u001b[0mag_error_metadata\u001b[0m\u001b[0;34m.\u001b[0m\u001b[0mto_exception\u001b[0m\u001b[0;34m(\u001b[0m\u001b[0me\u001b[0m\u001b[0;34m)\u001b[0m\u001b[0;34m\u001b[0m\u001b[0;34m\u001b[0m\u001b[0m\n\u001b[0m\u001b[1;32m    987\u001b[0m             \u001b[0;32melse\u001b[0m\u001b[0;34m:\u001b[0m\u001b[0;34m\u001b[0m\u001b[0;34m\u001b[0m\u001b[0m\n\u001b[1;32m    988\u001b[0m               \u001b[0;32mraise\u001b[0m\u001b[0;34m\u001b[0m\u001b[0;34m\u001b[0m\u001b[0m\n",
            "\u001b[0;31mValueError\u001b[0m: in user code:\n\n    /usr/local/lib/python3.7/dist-packages/tensorflow/python/keras/engine/training.py:1569 predict_function  *\n        return step_function(self, iterator)\n    /usr/local/lib/python3.7/dist-packages/tensorflow/python/keras/engine/training.py:1559 step_function  **\n        outputs = model.distribute_strategy.run(run_step, args=(data,))\n    /usr/local/lib/python3.7/dist-packages/tensorflow/python/distribute/distribute_lib.py:1285 run\n        return self._extended.call_for_each_replica(fn, args=args, kwargs=kwargs)\n    /usr/local/lib/python3.7/dist-packages/tensorflow/python/distribute/distribute_lib.py:2833 call_for_each_replica\n        return self._call_for_each_replica(fn, args, kwargs)\n    /usr/local/lib/python3.7/dist-packages/tensorflow/python/distribute/distribute_lib.py:3608 _call_for_each_replica\n        return fn(*args, **kwargs)\n    /usr/local/lib/python3.7/dist-packages/tensorflow/python/keras/engine/training.py:1552 run_step  **\n        outputs = model.predict_step(data)\n    /usr/local/lib/python3.7/dist-packages/tensorflow/python/keras/engine/training.py:1525 predict_step\n        return self(x, training=False)\n    /usr/local/lib/python3.7/dist-packages/tensorflow/python/keras/engine/base_layer.py:1013 __call__\n        input_spec.assert_input_compatibility(self.input_spec, inputs, self.name)\n    /usr/local/lib/python3.7/dist-packages/tensorflow/python/keras/engine/input_spec.py:235 assert_input_compatibility\n        str(tuple(shape)))\n\n    ValueError: Input 0 of layer sequential is incompatible with the layer: : expected min_ndim=4, found ndim=3. Full shape received: (32, 32, 3)\n"
          ]
        }
      ]
    },
    {
      "cell_type": "markdown",
      "metadata": {
        "id": "E797z36iHLZr"
      },
      "source": [
        "### Analyze Performance"
      ]
    },
    {
      "cell_type": "code",
      "metadata": {
        "collapsed": true,
        "id": "tfN3-5OBHLZs"
      },
      "source": [
        "### Calculate the accuracy for these 5 new images. \n",
        "### For example, if the model predicted 1 out of 5 signs correctly, it's 20% accurate on these new images.\n"
      ],
      "execution_count": null,
      "outputs": []
    },
    {
      "cell_type": "markdown",
      "metadata": {
        "id": "0EpFT4iwHLZs"
      },
      "source": [
        "### Output Top 5 Softmax Probabilities For Each Image Found on the Web"
      ]
    },
    {
      "cell_type": "markdown",
      "metadata": {
        "id": "pTvpCxQwHLZs"
      },
      "source": [
        "For each of the new images, print out the model's softmax probabilities to show the **certainty** of the model's predictions (limit the output to the top 5 probabilities for each image). [`tf.nn.top_k`](https://www.tensorflow.org/versions/r0.12/api_docs/python/nn.html#top_k) could prove helpful here. \n",
        "\n",
        "The example below demonstrates how tf.nn.top_k can be used to find the top k predictions for each image.\n",
        "\n",
        "`tf.nn.top_k` will return the values and indices (class ids) of the top k predictions. So if k=3, for each sign, it'll return the 3 largest probabilities (out of a possible 43) and the correspoding class ids.\n",
        "\n",
        "Take this numpy array as an example. The values in the array represent predictions. The array contains softmax probabilities for five candidate images with six possible classes. `tf.nn.top_k` is used to choose the three classes with the highest probability:\n",
        "\n",
        "```\n",
        "# (5, 6) array\n",
        "a = np.array([[ 0.24879643,  0.07032244,  0.12641572,  0.34763842,  0.07893497,\n",
        "         0.12789202],\n",
        "       [ 0.28086119,  0.27569815,  0.08594638,  0.0178669 ,  0.18063401,\n",
        "         0.15899337],\n",
        "       [ 0.26076848,  0.23664738,  0.08020603,  0.07001922,  0.1134371 ,\n",
        "         0.23892179],\n",
        "       [ 0.11943333,  0.29198961,  0.02605103,  0.26234032,  0.1351348 ,\n",
        "         0.16505091],\n",
        "       [ 0.09561176,  0.34396535,  0.0643941 ,  0.16240774,  0.24206137,\n",
        "         0.09155967]])\n",
        "```\n",
        "\n",
        "Running it through `sess.run(tf.nn.top_k(tf.constant(a), k=3))` produces:\n",
        "\n",
        "```\n",
        "TopKV2(values=array([[ 0.34763842,  0.24879643,  0.12789202],\n",
        "       [ 0.28086119,  0.27569815,  0.18063401],\n",
        "       [ 0.26076848,  0.23892179,  0.23664738],\n",
        "       [ 0.29198961,  0.26234032,  0.16505091],\n",
        "       [ 0.34396535,  0.24206137,  0.16240774]]), indices=array([[3, 0, 5],\n",
        "       [0, 1, 4],\n",
        "       [0, 5, 1],\n",
        "       [1, 3, 5],\n",
        "       [1, 4, 3]], dtype=int32))\n",
        "```\n",
        "\n",
        "Looking just at the first row we get `[ 0.34763842,  0.24879643,  0.12789202]`, you can confirm these are the 3 largest probabilities in `a`. You'll also notice `[3, 0, 5]` are the corresponding indices."
      ]
    },
    {
      "cell_type": "code",
      "metadata": {
        "collapsed": true,
        "id": "k8MkfyEAHLZt"
      },
      "source": [
        "### Print out the top five softmax probabilities for the predictions on the German traffic sign images found on the web. \n",
        "### Feel free to use as many code cells as needed."
      ],
      "execution_count": null,
      "outputs": []
    },
    {
      "cell_type": "markdown",
      "metadata": {
        "id": "e62YT7P-HLZt"
      },
      "source": [
        "### Project Writeup\n",
        "\n",
        "Once you have completed the code implementation, document your results in a project writeup using this [template](https://github.com/udacity/CarND-Traffic-Sign-Classifier-Project/blob/master/writeup_template.md) as a guide. The writeup can be in a markdown or pdf file. "
      ]
    },
    {
      "cell_type": "markdown",
      "metadata": {
        "id": "CidekM5WHLZu"
      },
      "source": [
        "> **Note**: Once you have completed all of the code implementations and successfully answered each question above, you may finalize your work by exporting the iPython Notebook as an HTML document. You can do this by using the menu above and navigating to  \\n\",\n",
        "    \"**File -> Download as -> HTML (.html)**. Include the finished document along with this notebook as your submission."
      ]
    },
    {
      "cell_type": "markdown",
      "metadata": {
        "id": "uXhPzCHiHLZu"
      },
      "source": [
        "---\n",
        "\n",
        "## Step 4 (Optional): Visualize the Neural Network's State with Test Images\n",
        "\n",
        " This Section is not required to complete but acts as an additional excersise for understaning the output of a neural network's weights. While neural networks can be a great learning device they are often referred to as a black box. We can understand what the weights of a neural network look like better by plotting their feature maps. After successfully training your neural network you can see what it's feature maps look like by plotting the output of the network's weight layers in response to a test stimuli image. From these plotted feature maps, it's possible to see what characteristics of an image the network finds interesting. For a sign, maybe the inner network feature maps react with high activation to the sign's boundary outline or to the contrast in the sign's painted symbol.\n",
        "\n",
        " Provided for you below is the function code that allows you to get the visualization output of any tensorflow weight layer you want. The inputs to the function should be a stimuli image, one used during training or a new one you provided, and then the tensorflow variable name that represents the layer's state during the training process, for instance if you wanted to see what the [LeNet lab's](https://classroom.udacity.com/nanodegrees/nd013/parts/fbf77062-5703-404e-b60c-95b78b2f3f9e/modules/6df7ae49-c61c-4bb2-a23e-6527e69209ec/lessons/601ae704-1035-4287-8b11-e2c2716217ad/concepts/d4aca031-508f-4e0b-b493-e7b706120f81) feature maps looked like for it's second convolutional layer you could enter conv2 as the tf_activation variable.\n",
        "\n",
        "For an example of what feature map outputs look like, check out NVIDIA's results in their paper [End-to-End Deep Learning for Self-Driving Cars](https://devblogs.nvidia.com/parallelforall/deep-learning-self-driving-cars/) in the section Visualization of internal CNN State. NVIDIA was able to show that their network's inner weights had high activations to road boundary lines by comparing feature maps from an image with a clear path to one without. Try experimenting with a similar test to show that your trained network's weights are looking for interesting features, whether it's looking at differences in feature maps from images with or without a sign, or even what feature maps look like in a trained network vs a completely untrained one on the same sign image.\n",
        "\n",
        "<figure>\n",
        " <img src=\"https://github.com/subodhkhanger/Blogger_legal/blob/master/visualize_cnn.png?raw=1\" width=\"380\" alt=\"Combined Image\" />\n",
        " <figcaption>\n",
        " <p></p> \n",
        " <p style=\"text-align: center;\"> Your output should look something like this (above)</p> \n",
        " </figcaption>\n",
        "</figure>\n",
        " <p></p> \n"
      ]
    },
    {
      "cell_type": "code",
      "metadata": {
        "collapsed": true,
        "id": "NrJgDeB4HLZu"
      },
      "source": [
        "### Visualize your network's feature maps here.\n",
        "### Feel free to use as many code cells as needed.\n",
        "\n",
        "# image_input: the test image being fed into the network to produce the feature maps\n",
        "# tf_activation: should be a tf variable name used during your training procedure that represents the calculated state of a specific weight layer\n",
        "# activation_min/max: can be used to view the activation contrast in more detail, by default matplot sets min and max to the actual min and max values of the output\n",
        "# plt_num: used to plot out multiple different weight feature map sets on the same block, just extend the plt number for each new feature map entry\n",
        "\n",
        "def outputFeatureMap(image_input, tf_activation, activation_min=-1, activation_max=-1 ,plt_num=1):\n",
        "    # Here make sure to preprocess your image_input in a way your network expects\n",
        "    # with size, normalization, ect if needed\n",
        "    # image_input =\n",
        "    # Note: x should be the same name as your network's tensorflow data placeholder variable\n",
        "    # If you get an error tf_activation is not defined it may be having trouble accessing the variable from inside a function\n",
        "    activation = tf_activation.eval(session=sess,feed_dict={x : image_input})\n",
        "    featuremaps = activation.shape[3]\n",
        "    plt.figure(plt_num, figsize=(15,15))\n",
        "    for featuremap in range(featuremaps):\n",
        "        plt.subplot(6,8, featuremap+1) # sets the number of feature maps to show on each row and column\n",
        "        plt.title('FeatureMap ' + str(featuremap)) # displays the feature map number\n",
        "        if activation_min != -1 & activation_max != -1:\n",
        "            plt.imshow(activation[0,:,:, featuremap], interpolation=\"nearest\", vmin =activation_min, vmax=activation_max, cmap=\"gray\")\n",
        "        elif activation_max != -1:\n",
        "            plt.imshow(activation[0,:,:, featuremap], interpolation=\"nearest\", vmax=activation_max, cmap=\"gray\")\n",
        "        elif activation_min !=-1:\n",
        "            plt.imshow(activation[0,:,:, featuremap], interpolation=\"nearest\", vmin=activation_min, cmap=\"gray\")\n",
        "        else:\n",
        "            plt.imshow(activation[0,:,:, featuremap], interpolation=\"nearest\", cmap=\"gray\")"
      ],
      "execution_count": null,
      "outputs": []
    }
  ]
}